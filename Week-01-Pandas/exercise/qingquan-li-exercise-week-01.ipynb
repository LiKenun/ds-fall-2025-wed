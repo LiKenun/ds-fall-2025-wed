{
 "cells": [
  {
   "cell_type": "markdown",
   "metadata": {},
   "source": [
    "# First print your name in the cell below then save this file. (or something nice about your instructor)"
   ]
  },
  {
   "cell_type": "code",
   "execution_count": 1,
   "metadata": {},
   "outputs": [
    {
     "name": "stdout",
     "output_type": "stream",
     "text": [
      "Qingquan Li\n"
     ]
    }
   ],
   "source": [
    "# In this cell print your name \n",
    "\n",
    "print(\"Qingquan Li\")"
   ]
  },
  {
   "cell_type": "markdown",
   "metadata": {},
   "source": [
    "# Data wrangling with Pandas exercise\n",
    "* For this exercise we will be using the `listings.csv` data file."
   ]
  },
  {
   "cell_type": "code",
   "execution_count": 3,
   "metadata": {},
   "outputs": [],
   "source": [
    "import pandas as pd\n",
    "import numpy as np"
   ]
  },
  {
   "cell_type": "markdown",
   "metadata": {},
   "source": [
    "# Load in the data file using `pd.read_csv()`"
   ]
  },
  {
   "cell_type": "code",
   "execution_count": 4,
   "metadata": {},
   "outputs": [],
   "source": [
    "# Load data here\n",
    "\n",
    "# listings.csv sample:\n",
    "# id,name,host_id,host_name,neighbourhood_group,neighbourhood,latitude,longitude,room_type,price,minimum_nights,number_of_reviews,last_review,reviews_per_month,calculated_host_listings_count,availability_365\n",
    "# 2595,Skylit Midtown Castle,2845,Jennifer,Manhattan,Midtown,40.75362,-73.98377,Entire home/apt,175,3,48,2019-11-04,0.37,2,365\n",
    "# 3831,\"Whole flr w/private bdrm, bath & kitchen(pls read)\",4869,LisaRoxanne,Brooklyn,Clinton Hill,40.68514,-73.95976,Entire home/apt,75,1,340,2020-08-01,4.75,1,265\n",
    "df_listings = pd.read_csv('../data/listings.csv')"
   ]
  },
  {
   "cell_type": "markdown",
   "metadata": {},
   "source": [
    "## Exercise 2 - Filtering\n",
    "\n",
    "Return the following subsets of the dataframe.\n",
    "\n",
    "1. How many listings are there with a price less than 100? \n",
    "\n",
    "\n",
    "2. Find how many listings there are in just Brooklyn.\n",
    "\n",
    "\n",
    "3. Find how many listings there are in Brooklyn with a price less than 100.\n",
    "\n",
    "\n",
    "4. Using `.isin()` select anyone that has the host name of Michael, David, John, and Daniel.\n",
    "\n",
    "\n",
    "5. Create a new column called `adjusted_price` that has $100 added to every listing in Williamsburg.  The prices for all other listings should be the same as the were before. \n",
    "\n",
    "\n",
    "6. What % of the rooms are private, and what % of the rooms are shared.  \n",
    "    * Hint, use `.value_counts()`\n"
   ]
  },
  {
   "cell_type": "code",
   "execution_count": 5,
   "metadata": {},
   "outputs": [
    {
     "data": {
      "text/plain": [
       "22778"
      ]
     },
     "execution_count": 5,
     "metadata": {},
     "output_type": "execute_result"
    }
   ],
   "source": [
    "# 1. How many listings are there with a price less than 100? \n",
    "\n",
    "df_listings[df_listings['price'] < 100].shape[0]"
   ]
  },
  {
   "cell_type": "code",
   "execution_count": 6,
   "metadata": {},
   "outputs": [
    {
     "data": {
      "text/plain": [
       "18632"
      ]
     },
     "execution_count": 6,
     "metadata": {},
     "output_type": "execute_result"
    }
   ],
   "source": [
    "# 2. Make a new DataFrame of listings in Brooklyn named `df_bk` \n",
    "# and find how many listings in just Brooklyn.\n",
    "\n",
    "df_bk = df_listings[df_listings['neighbourhood_group'] == 'Brooklyn']\n",
    "df_bk.shape[0]"
   ]
  },
  {
   "cell_type": "code",
   "execution_count": 7,
   "metadata": {},
   "outputs": [
    {
     "data": {
      "text/plain": [
       "10473"
      ]
     },
     "execution_count": 7,
     "metadata": {},
     "output_type": "execute_result"
    }
   ],
   "source": [
    "# 3. Find how many listings there are in Brooklyn with a price less than 100.\n",
    "\n",
    "df_bk[df_bk['price'] < 100].shape[0]"
   ]
  },
  {
   "cell_type": "code",
   "execution_count": 10,
   "metadata": {},
   "outputs": [
    {
     "data": {
      "text/plain": [
       "1258"
      ]
     },
     "execution_count": 10,
     "metadata": {},
     "output_type": "execute_result"
    }
   ],
   "source": [
    "# 4. Using `.isin()` select anyone that has the host name of Michael, David, John, and Daniel.\n",
    "# How many total are there that have those names\n",
    "\n",
    "names = ['Michael', 'David', 'John', 'Daniel']\n",
    "filtered = df_listings[df_listings['host_name'].isin(names)]\n",
    "filtered.shape[0]"
   ]
  },
  {
   "cell_type": "code",
   "execution_count": 12,
   "metadata": {},
   "outputs": [],
   "source": [
    "# 5. Create a new column called `adjusted_price` that has $100 added to every listing in Williamsburg.  \n",
    "# The prices for all other listings should be the same as the were before. \n",
    "\n",
    "df_listings['adjusted_price'] = df_listings['price']\n",
    "df_listings.loc[df_listings['neighbourhood'] == 'Williamsburg', 'adjusted_price'] += 100\n"
   ]
  },
  {
   "cell_type": "code",
   "execution_count": 13,
   "metadata": {},
   "outputs": [
    {
     "data": {
      "text/plain": [
       "(95.54019249017216, 4.459807509827844)"
      ]
     },
     "execution_count": 13,
     "metadata": {},
     "output_type": "execute_result"
    }
   ],
   "source": [
    "# 6. What % of the rooms are private, and what % of the rooms are shared.  \n",
    "\n",
    "private_rooms = df_listings[df_listings['room_type'] == 'Private room'].shape[0]\n",
    "shared_rooms = df_listings[df_listings['room_type'] == 'Shared room'].shape[0]\n",
    "total_rooms = private_rooms + shared_rooms\n",
    "\n",
    "private_percentage = (private_rooms / total_rooms * 100) if total_rooms > 0 else 0\n",
    "shared_percentage = (shared_rooms / total_rooms * 100) if total_rooms > 0 else 0\n",
    "\n",
    "private_percentage, shared_percentage\n"
   ]
  },
  {
   "cell_type": "markdown",
   "metadata": {},
   "source": [
    "# Exercise 3 - Grouping\n",
    "\n",
    "1. Using `groupby`, count how many listings are in each neighbourhood_group.\n",
    "\n",
    "\n",
    "2. Using `groupby`, find the mean price for each of the neighbourhood_groups. \n",
    "\n",
    "\n",
    "3. Using `groupby` and `.agg()`, find the min and max price for each of the neighbourhood_groups. \n",
    "\n",
    "\n",
    "4. Using `groupby`, find the median price for each room type in each neighbourhood_group.\n",
    "\n",
    "\n",
    "5. Using `groupby` and `.agg()`, find the count, min, max, mean, median, and std of the prices for each room type in each neighbourhood_group."
   ]
  },
  {
   "cell_type": "code",
   "execution_count": 14,
   "metadata": {},
   "outputs": [
    {
     "data": {
      "text/plain": [
       "neighbourhood_group\n",
       "Bronx             1183\n",
       "Brooklyn         18632\n",
       "Manhattan        20580\n",
       "Queens            5791\n",
       "Staten Island      341\n",
       "dtype: int64"
      ]
     },
     "execution_count": 14,
     "metadata": {},
     "output_type": "execute_result"
    }
   ],
   "source": [
    "# 1. Using `groupby`, count how many listings are in each neighbourhood_group.\n",
    "\n",
    "df_listings.groupby('neighbourhood_group').size()"
   ]
  },
  {
   "cell_type": "code",
   "execution_count": 15,
   "metadata": {},
   "outputs": [
    {
     "data": {
      "text/plain": [
       "neighbourhood_group\n",
       "Bronx             92.751479\n",
       "Brooklyn         120.225258\n",
       "Manhattan        191.880466\n",
       "Queens            99.754965\n",
       "Staten Island    110.947214\n",
       "Name: price, dtype: float64"
      ]
     },
     "execution_count": 15,
     "metadata": {},
     "output_type": "execute_result"
    }
   ],
   "source": [
    "# 2. Using `groupby`, find the mean price for each of the neighbourhood_groups. \n",
    "\n",
    "df_listings.groupby('neighbourhood_group')['price'].mean()"
   ]
  },
  {
   "cell_type": "code",
   "execution_count": 16,
   "metadata": {},
   "outputs": [
    {
     "data": {
      "text/plain": [
       "room_type\n",
       "Entire home/apt    199.395950\n",
       "Hotel room         275.015075\n",
       "Private room        91.453084\n",
       "Shared room         87.063830\n",
       "Name: price, dtype: float64"
      ]
     },
     "execution_count": 16,
     "metadata": {},
     "output_type": "execute_result"
    }
   ],
   "source": [
    "# 2.5. Using `groupby`, find the mean price for each room_type. \n",
    "\n",
    "df_listings.groupby('room_type')['price'].mean()"
   ]
  },
  {
   "cell_type": "code",
   "execution_count": 21,
   "metadata": {},
   "outputs": [
    {
     "data": {
      "text/html": [
       "<div>\n",
       "<style scoped>\n",
       "    .dataframe tbody tr th:only-of-type {\n",
       "        vertical-align: middle;\n",
       "    }\n",
       "\n",
       "    .dataframe tbody tr th {\n",
       "        vertical-align: top;\n",
       "    }\n",
       "\n",
       "    .dataframe thead th {\n",
       "        text-align: right;\n",
       "    }\n",
       "</style>\n",
       "<table border=\"1\" class=\"dataframe\">\n",
       "  <thead>\n",
       "    <tr style=\"text-align: right;\">\n",
       "      <th></th>\n",
       "      <th>min</th>\n",
       "      <th>max</th>\n",
       "    </tr>\n",
       "    <tr>\n",
       "      <th>neighbourhood_group</th>\n",
       "      <th></th>\n",
       "      <th></th>\n",
       "    </tr>\n",
       "  </thead>\n",
       "  <tbody>\n",
       "    <tr>\n",
       "      <th>Bronx</th>\n",
       "      <td>16</td>\n",
       "      <td>1404</td>\n",
       "    </tr>\n",
       "    <tr>\n",
       "      <th>Brooklyn</th>\n",
       "      <td>0</td>\n",
       "      <td>10000</td>\n",
       "    </tr>\n",
       "    <tr>\n",
       "      <th>Manhattan</th>\n",
       "      <td>0</td>\n",
       "      <td>10000</td>\n",
       "    </tr>\n",
       "    <tr>\n",
       "      <th>Queens</th>\n",
       "      <td>0</td>\n",
       "      <td>10000</td>\n",
       "    </tr>\n",
       "    <tr>\n",
       "      <th>Staten Island</th>\n",
       "      <td>19</td>\n",
       "      <td>1200</td>\n",
       "    </tr>\n",
       "  </tbody>\n",
       "</table>\n",
       "</div>"
      ],
      "text/plain": [
       "                     min    max\n",
       "neighbourhood_group            \n",
       "Bronx                 16   1404\n",
       "Brooklyn               0  10000\n",
       "Manhattan              0  10000\n",
       "Queens                 0  10000\n",
       "Staten Island         19   1200"
      ]
     },
     "execution_count": 21,
     "metadata": {},
     "output_type": "execute_result"
    }
   ],
   "source": [
    "# 3. Using `groupby` and `.agg()`, find the min and max price for each of the neighbourhood_groups. \n",
    "\n",
    "df_listings.groupby('neighbourhood_group')['price'].agg(['min', 'max'])"
   ]
  },
  {
   "cell_type": "code",
   "execution_count": 22,
   "metadata": {},
   "outputs": [
    {
     "data": {
      "text/html": [
       "<div>\n",
       "<style scoped>\n",
       "    .dataframe tbody tr th:only-of-type {\n",
       "        vertical-align: middle;\n",
       "    }\n",
       "\n",
       "    .dataframe tbody tr th {\n",
       "        vertical-align: top;\n",
       "    }\n",
       "\n",
       "    .dataframe thead th {\n",
       "        text-align: right;\n",
       "    }\n",
       "</style>\n",
       "<table border=\"1\" class=\"dataframe\">\n",
       "  <thead>\n",
       "    <tr style=\"text-align: right;\">\n",
       "      <th></th>\n",
       "      <th>neighbourhood_group</th>\n",
       "      <th>room_type</th>\n",
       "      <th>price</th>\n",
       "    </tr>\n",
       "  </thead>\n",
       "  <tbody>\n",
       "    <tr>\n",
       "      <th>0</th>\n",
       "      <td>Bronx</td>\n",
       "      <td>Entire home/apt</td>\n",
       "      <td>138.004819</td>\n",
       "    </tr>\n",
       "    <tr>\n",
       "      <th>1</th>\n",
       "      <td>Bronx</td>\n",
       "      <td>Private room</td>\n",
       "      <td>68.419668</td>\n",
       "    </tr>\n",
       "    <tr>\n",
       "      <th>2</th>\n",
       "      <td>Bronx</td>\n",
       "      <td>Shared room</td>\n",
       "      <td>66.391304</td>\n",
       "    </tr>\n",
       "    <tr>\n",
       "      <th>3</th>\n",
       "      <td>Brooklyn</td>\n",
       "      <td>Entire home/apt</td>\n",
       "      <td>171.587687</td>\n",
       "    </tr>\n",
       "    <tr>\n",
       "      <th>4</th>\n",
       "      <td>Brooklyn</td>\n",
       "      <td>Hotel room</td>\n",
       "      <td>147.300000</td>\n",
       "    </tr>\n",
       "    <tr>\n",
       "      <th>5</th>\n",
       "      <td>Brooklyn</td>\n",
       "      <td>Private room</td>\n",
       "      <td>71.291189</td>\n",
       "    </tr>\n",
       "    <tr>\n",
       "      <th>6</th>\n",
       "      <td>Brooklyn</td>\n",
       "      <td>Shared room</td>\n",
       "      <td>57.870091</td>\n",
       "    </tr>\n",
       "    <tr>\n",
       "      <th>7</th>\n",
       "      <td>Manhattan</td>\n",
       "      <td>Entire home/apt</td>\n",
       "      <td>231.335572</td>\n",
       "    </tr>\n",
       "    <tr>\n",
       "      <th>8</th>\n",
       "      <td>Manhattan</td>\n",
       "      <td>Hotel room</td>\n",
       "      <td>292.515670</td>\n",
       "    </tr>\n",
       "    <tr>\n",
       "      <th>9</th>\n",
       "      <td>Manhattan</td>\n",
       "      <td>Private room</td>\n",
       "      <td>128.277069</td>\n",
       "    </tr>\n",
       "    <tr>\n",
       "      <th>10</th>\n",
       "      <td>Manhattan</td>\n",
       "      <td>Shared room</td>\n",
       "      <td>111.735084</td>\n",
       "    </tr>\n",
       "    <tr>\n",
       "      <th>11</th>\n",
       "      <td>Queens</td>\n",
       "      <td>Entire home/apt</td>\n",
       "      <td>150.168900</td>\n",
       "    </tr>\n",
       "    <tr>\n",
       "      <th>12</th>\n",
       "      <td>Queens</td>\n",
       "      <td>Hotel room</td>\n",
       "      <td>139.058824</td>\n",
       "    </tr>\n",
       "    <tr>\n",
       "      <th>13</th>\n",
       "      <td>Queens</td>\n",
       "      <td>Private room</td>\n",
       "      <td>69.972564</td>\n",
       "    </tr>\n",
       "    <tr>\n",
       "      <th>14</th>\n",
       "      <td>Queens</td>\n",
       "      <td>Shared room</td>\n",
       "      <td>89.891892</td>\n",
       "    </tr>\n",
       "    <tr>\n",
       "      <th>15</th>\n",
       "      <td>Staten Island</td>\n",
       "      <td>Entire home/apt</td>\n",
       "      <td>151.720930</td>\n",
       "    </tr>\n",
       "    <tr>\n",
       "      <th>16</th>\n",
       "      <td>Staten Island</td>\n",
       "      <td>Private room</td>\n",
       "      <td>70.312883</td>\n",
       "    </tr>\n",
       "    <tr>\n",
       "      <th>17</th>\n",
       "      <td>Staten Island</td>\n",
       "      <td>Shared room</td>\n",
       "      <td>46.000000</td>\n",
       "    </tr>\n",
       "  </tbody>\n",
       "</table>\n",
       "</div>"
      ],
      "text/plain": [
       "   neighbourhood_group        room_type       price\n",
       "0                Bronx  Entire home/apt  138.004819\n",
       "1                Bronx     Private room   68.419668\n",
       "2                Bronx      Shared room   66.391304\n",
       "3             Brooklyn  Entire home/apt  171.587687\n",
       "4             Brooklyn       Hotel room  147.300000\n",
       "5             Brooklyn     Private room   71.291189\n",
       "6             Brooklyn      Shared room   57.870091\n",
       "7            Manhattan  Entire home/apt  231.335572\n",
       "8            Manhattan       Hotel room  292.515670\n",
       "9            Manhattan     Private room  128.277069\n",
       "10           Manhattan      Shared room  111.735084\n",
       "11              Queens  Entire home/apt  150.168900\n",
       "12              Queens       Hotel room  139.058824\n",
       "13              Queens     Private room   69.972564\n",
       "14              Queens      Shared room   89.891892\n",
       "15       Staten Island  Entire home/apt  151.720930\n",
       "16       Staten Island     Private room   70.312883\n",
       "17       Staten Island      Shared room   46.000000"
      ]
     },
     "execution_count": 22,
     "metadata": {},
     "output_type": "execute_result"
    }
   ],
   "source": [
    "# 4. Using `groupby`, find the mean price for each room_type in each neighbourhood_group.\n",
    "\n",
    "df_listings.groupby(['neighbourhood_group', 'room_type'])['price'].mean().reset_index()"
   ]
  },
  {
   "cell_type": "code",
   "execution_count": 26,
   "metadata": {},
   "outputs": [
    {
     "data": {
      "text/html": [
       "<div>\n",
       "<style scoped>\n",
       "    .dataframe tbody tr th:only-of-type {\n",
       "        vertical-align: middle;\n",
       "    }\n",
       "\n",
       "    .dataframe tbody tr th {\n",
       "        vertical-align: top;\n",
       "    }\n",
       "\n",
       "    .dataframe thead th {\n",
       "        text-align: right;\n",
       "    }\n",
       "</style>\n",
       "<table border=\"1\" class=\"dataframe\">\n",
       "  <thead>\n",
       "    <tr style=\"text-align: right;\">\n",
       "      <th></th>\n",
       "      <th>neighbourhood_group</th>\n",
       "      <th>room_type</th>\n",
       "      <th>count</th>\n",
       "      <th>min</th>\n",
       "      <th>max</th>\n",
       "      <th>mean</th>\n",
       "      <th>median</th>\n",
       "      <th>std</th>\n",
       "    </tr>\n",
       "  </thead>\n",
       "  <tbody>\n",
       "    <tr>\n",
       "      <th>0</th>\n",
       "      <td>Bronx</td>\n",
       "      <td>Entire home/apt</td>\n",
       "      <td>415</td>\n",
       "      <td>25</td>\n",
       "      <td>1404</td>\n",
       "      <td>138.004819</td>\n",
       "      <td>103.0</td>\n",
       "      <td>126.032106</td>\n",
       "    </tr>\n",
       "    <tr>\n",
       "      <th>1</th>\n",
       "      <td>Bronx</td>\n",
       "      <td>Private room</td>\n",
       "      <td>722</td>\n",
       "      <td>16</td>\n",
       "      <td>700</td>\n",
       "      <td>68.419668</td>\n",
       "      <td>55.0</td>\n",
       "      <td>57.337866</td>\n",
       "    </tr>\n",
       "    <tr>\n",
       "      <th>2</th>\n",
       "      <td>Bronx</td>\n",
       "      <td>Shared room</td>\n",
       "      <td>46</td>\n",
       "      <td>20</td>\n",
       "      <td>800</td>\n",
       "      <td>66.391304</td>\n",
       "      <td>44.0</td>\n",
       "      <td>114.442703</td>\n",
       "    </tr>\n",
       "    <tr>\n",
       "      <th>3</th>\n",
       "      <td>Brooklyn</td>\n",
       "      <td>Entire home/apt</td>\n",
       "      <td>9112</td>\n",
       "      <td>20</td>\n",
       "      <td>10000</td>\n",
       "      <td>171.587687</td>\n",
       "      <td>135.0</td>\n",
       "      <td>236.732843</td>\n",
       "    </tr>\n",
       "    <tr>\n",
       "      <th>4</th>\n",
       "      <td>Brooklyn</td>\n",
       "      <td>Hotel room</td>\n",
       "      <td>30</td>\n",
       "      <td>0</td>\n",
       "      <td>399</td>\n",
       "      <td>147.300000</td>\n",
       "      <td>129.0</td>\n",
       "      <td>91.153206</td>\n",
       "    </tr>\n",
       "    <tr>\n",
       "      <th>5</th>\n",
       "      <td>Brooklyn</td>\n",
       "      <td>Private room</td>\n",
       "      <td>9159</td>\n",
       "      <td>10</td>\n",
       "      <td>2500</td>\n",
       "      <td>71.291189</td>\n",
       "      <td>60.0</td>\n",
       "      <td>69.023165</td>\n",
       "    </tr>\n",
       "    <tr>\n",
       "      <th>6</th>\n",
       "      <td>Brooklyn</td>\n",
       "      <td>Shared room</td>\n",
       "      <td>331</td>\n",
       "      <td>15</td>\n",
       "      <td>1500</td>\n",
       "      <td>57.870091</td>\n",
       "      <td>36.0</td>\n",
       "      <td>92.217618</td>\n",
       "    </tr>\n",
       "    <tr>\n",
       "      <th>7</th>\n",
       "      <td>Manhattan</td>\n",
       "      <td>Entire home/apt</td>\n",
       "      <td>12209</td>\n",
       "      <td>0</td>\n",
       "      <td>10000</td>\n",
       "      <td>231.335572</td>\n",
       "      <td>165.0</td>\n",
       "      <td>410.306439</td>\n",
       "    </tr>\n",
       "    <tr>\n",
       "      <th>8</th>\n",
       "      <td>Manhattan</td>\n",
       "      <td>Hotel room</td>\n",
       "      <td>351</td>\n",
       "      <td>0</td>\n",
       "      <td>2211</td>\n",
       "      <td>292.515670</td>\n",
       "      <td>210.0</td>\n",
       "      <td>315.924085</td>\n",
       "    </tr>\n",
       "    <tr>\n",
       "      <th>9</th>\n",
       "      <td>Manhattan</td>\n",
       "      <td>Private room</td>\n",
       "      <td>7601</td>\n",
       "      <td>10</td>\n",
       "      <td>10000</td>\n",
       "      <td>128.277069</td>\n",
       "      <td>80.0</td>\n",
       "      <td>448.677306</td>\n",
       "    </tr>\n",
       "    <tr>\n",
       "      <th>10</th>\n",
       "      <td>Manhattan</td>\n",
       "      <td>Shared room</td>\n",
       "      <td>419</td>\n",
       "      <td>10</td>\n",
       "      <td>10000</td>\n",
       "      <td>111.735084</td>\n",
       "      <td>60.0</td>\n",
       "      <td>502.728868</td>\n",
       "    </tr>\n",
       "    <tr>\n",
       "      <th>11</th>\n",
       "      <td>Queens</td>\n",
       "      <td>Entire home/apt</td>\n",
       "      <td>2090</td>\n",
       "      <td>10</td>\n",
       "      <td>10000</td>\n",
       "      <td>150.168900</td>\n",
       "      <td>115.0</td>\n",
       "      <td>252.606739</td>\n",
       "    </tr>\n",
       "    <tr>\n",
       "      <th>12</th>\n",
       "      <td>Queens</td>\n",
       "      <td>Hotel room</td>\n",
       "      <td>17</td>\n",
       "      <td>0</td>\n",
       "      <td>249</td>\n",
       "      <td>139.058824</td>\n",
       "      <td>149.0</td>\n",
       "      <td>50.743806</td>\n",
       "    </tr>\n",
       "    <tr>\n",
       "      <th>13</th>\n",
       "      <td>Queens</td>\n",
       "      <td>Private room</td>\n",
       "      <td>3499</td>\n",
       "      <td>18</td>\n",
       "      <td>9000</td>\n",
       "      <td>69.972564</td>\n",
       "      <td>55.0</td>\n",
       "      <td>163.814468</td>\n",
       "    </tr>\n",
       "    <tr>\n",
       "      <th>14</th>\n",
       "      <td>Queens</td>\n",
       "      <td>Shared room</td>\n",
       "      <td>185</td>\n",
       "      <td>14</td>\n",
       "      <td>3000</td>\n",
       "      <td>89.891892</td>\n",
       "      <td>40.0</td>\n",
       "      <td>275.675158</td>\n",
       "    </tr>\n",
       "    <tr>\n",
       "      <th>15</th>\n",
       "      <td>Staten Island</td>\n",
       "      <td>Entire home/apt</td>\n",
       "      <td>172</td>\n",
       "      <td>39</td>\n",
       "      <td>1200</td>\n",
       "      <td>151.720930</td>\n",
       "      <td>111.0</td>\n",
       "      <td>147.518392</td>\n",
       "    </tr>\n",
       "    <tr>\n",
       "      <th>16</th>\n",
       "      <td>Staten Island</td>\n",
       "      <td>Private room</td>\n",
       "      <td>163</td>\n",
       "      <td>20</td>\n",
       "      <td>800</td>\n",
       "      <td>70.312883</td>\n",
       "      <td>55.0</td>\n",
       "      <td>70.759593</td>\n",
       "    </tr>\n",
       "    <tr>\n",
       "      <th>17</th>\n",
       "      <td>Staten Island</td>\n",
       "      <td>Shared room</td>\n",
       "      <td>6</td>\n",
       "      <td>19</td>\n",
       "      <td>82</td>\n",
       "      <td>46.000000</td>\n",
       "      <td>38.0</td>\n",
       "      <td>28.446441</td>\n",
       "    </tr>\n",
       "  </tbody>\n",
       "</table>\n",
       "</div>"
      ],
      "text/plain": [
       "   neighbourhood_group        room_type  count  min    max        mean  \\\n",
       "0                Bronx  Entire home/apt    415   25   1404  138.004819   \n",
       "1                Bronx     Private room    722   16    700   68.419668   \n",
       "2                Bronx      Shared room     46   20    800   66.391304   \n",
       "3             Brooklyn  Entire home/apt   9112   20  10000  171.587687   \n",
       "4             Brooklyn       Hotel room     30    0    399  147.300000   \n",
       "5             Brooklyn     Private room   9159   10   2500   71.291189   \n",
       "6             Brooklyn      Shared room    331   15   1500   57.870091   \n",
       "7            Manhattan  Entire home/apt  12209    0  10000  231.335572   \n",
       "8            Manhattan       Hotel room    351    0   2211  292.515670   \n",
       "9            Manhattan     Private room   7601   10  10000  128.277069   \n",
       "10           Manhattan      Shared room    419   10  10000  111.735084   \n",
       "11              Queens  Entire home/apt   2090   10  10000  150.168900   \n",
       "12              Queens       Hotel room     17    0    249  139.058824   \n",
       "13              Queens     Private room   3499   18   9000   69.972564   \n",
       "14              Queens      Shared room    185   14   3000   89.891892   \n",
       "15       Staten Island  Entire home/apt    172   39   1200  151.720930   \n",
       "16       Staten Island     Private room    163   20    800   70.312883   \n",
       "17       Staten Island      Shared room      6   19     82   46.000000   \n",
       "\n",
       "    median         std  \n",
       "0    103.0  126.032106  \n",
       "1     55.0   57.337866  \n",
       "2     44.0  114.442703  \n",
       "3    135.0  236.732843  \n",
       "4    129.0   91.153206  \n",
       "5     60.0   69.023165  \n",
       "6     36.0   92.217618  \n",
       "7    165.0  410.306439  \n",
       "8    210.0  315.924085  \n",
       "9     80.0  448.677306  \n",
       "10    60.0  502.728868  \n",
       "11   115.0  252.606739  \n",
       "12   149.0   50.743806  \n",
       "13    55.0  163.814468  \n",
       "14    40.0  275.675158  \n",
       "15   111.0  147.518392  \n",
       "16    55.0   70.759593  \n",
       "17    38.0   28.446441  "
      ]
     },
     "execution_count": 26,
     "metadata": {},
     "output_type": "execute_result"
    }
   ],
   "source": [
    "# 5. Using `groupby` and `.agg()`, find the count, min, max, mean, median, and std of the prices \n",
    "# for each room type in each neighbourhood_group.\n",
    "\n",
    "df_listings.groupby(['neighbourhood_group', 'room_type'])['price'].agg(['count', 'min', 'max', 'mean', 'median', 'std']).reset_index()\n"
   ]
  },
  {
   "cell_type": "markdown",
   "metadata": {},
   "source": [
    "# Load, Merge, and Export files.\n",
    "1. Load the `prices.csv` and the `n_listings.csv`\n",
    "    * Having an error..? Inspect the actual csv file if you're having trouble\n",
    "\n",
    "2. Do join that keeps all the records for each table.\n",
    "    * Neighbourhood groups should include ['Bronx', 'Brooklyn', 'Manhattan', 'Queens', 'Staten Island',\n",
    "       'LongIsland']\n",
    "\n",
    "       \n",
    "3. Save your joined csv as `joined.csv` into the data folder. \n",
    "\n",
    "\n",
    "4. Load your saved table and see if it looks the same or different that the DataFrame you used to create it. "
   ]
  },
  {
   "cell_type": "code",
   "execution_count": 32,
   "metadata": {},
   "outputs": [],
   "source": [
    "# 1. Load the `prices.csv` and the `n_listings.csv`\n",
    "\n",
    "# prices.csv:\n",
    "# neighbourhood_group, mean_price\n",
    "# Bronx, 92.75147928994083\n",
    "# Brooklyn, 120.22525762129669\n",
    "# Manhattan, 191.8804664723032\n",
    "# Queens, 99.75496460024175\n",
    "# Staten Island, 110.94721407624634\n",
    "\n",
    "# n_listings.csv:\n",
    "# neighbourhood_group;n_listings\n",
    "# Bronx;1183\n",
    "# Brooklyn;18632\n",
    "# Manhattan;20580\n",
    "# LongIsland;4121\n",
    "\n",
    "df_prices = pd.read_csv('../data/prices.csv')\n",
    "# df_n_listings = pd.read_csv('../data/n_listings.csv')\n",
    "df_n_listings = pd.read_csv('../data/n_listings.csv', sep=';')"
   ]
  },
  {
   "cell_type": "code",
   "execution_count": 34,
   "metadata": {},
   "outputs": [],
   "source": [
    "# 2. Do join that keeps all the records for each table.\n",
    "\n",
    "df_joined = pd.merge(df_prices, df_n_listings, on='neighbourhood_group', how='outer')"
   ]
  },
  {
   "cell_type": "code",
   "execution_count": 44,
   "metadata": {},
   "outputs": [],
   "source": [
    "# 3. Save your joined csv as `joined.csv` into the data folder. \n",
    "\n",
    "df_joined.to_csv('../data/joined.csv', index=False)"
   ]
  },
  {
   "cell_type": "code",
   "execution_count": 45,
   "metadata": {},
   "outputs": [
    {
     "data": {
      "text/html": [
       "<div>\n",
       "<style scoped>\n",
       "    .dataframe tbody tr th:only-of-type {\n",
       "        vertical-align: middle;\n",
       "    }\n",
       "\n",
       "    .dataframe tbody tr th {\n",
       "        vertical-align: top;\n",
       "    }\n",
       "\n",
       "    .dataframe thead th {\n",
       "        text-align: right;\n",
       "    }\n",
       "</style>\n",
       "<table border=\"1\" class=\"dataframe\">\n",
       "  <thead>\n",
       "    <tr style=\"text-align: right;\">\n",
       "      <th></th>\n",
       "      <th>neighbourhood_group</th>\n",
       "      <th>mean_price</th>\n",
       "      <th>n_listings</th>\n",
       "    </tr>\n",
       "  </thead>\n",
       "  <tbody>\n",
       "    <tr>\n",
       "      <th>0</th>\n",
       "      <td>Bronx</td>\n",
       "      <td>92.751479</td>\n",
       "      <td>1183.0</td>\n",
       "    </tr>\n",
       "    <tr>\n",
       "      <th>1</th>\n",
       "      <td>Brooklyn</td>\n",
       "      <td>120.225258</td>\n",
       "      <td>18632.0</td>\n",
       "    </tr>\n",
       "    <tr>\n",
       "      <th>2</th>\n",
       "      <td>LongIsland</td>\n",
       "      <td>NaN</td>\n",
       "      <td>4121.0</td>\n",
       "    </tr>\n",
       "    <tr>\n",
       "      <th>3</th>\n",
       "      <td>Manhattan</td>\n",
       "      <td>191.880466</td>\n",
       "      <td>20580.0</td>\n",
       "    </tr>\n",
       "    <tr>\n",
       "      <th>4</th>\n",
       "      <td>Queens</td>\n",
       "      <td>99.754965</td>\n",
       "      <td>NaN</td>\n",
       "    </tr>\n",
       "    <tr>\n",
       "      <th>5</th>\n",
       "      <td>Staten Island</td>\n",
       "      <td>110.947214</td>\n",
       "      <td>NaN</td>\n",
       "    </tr>\n",
       "  </tbody>\n",
       "</table>\n",
       "</div>"
      ],
      "text/plain": [
       "  neighbourhood_group   mean_price  n_listings\n",
       "0               Bronx    92.751479      1183.0\n",
       "1            Brooklyn   120.225258     18632.0\n",
       "2          LongIsland          NaN      4121.0\n",
       "3           Manhattan   191.880466     20580.0\n",
       "4              Queens    99.754965         NaN\n",
       "5       Staten Island   110.947214         NaN"
      ]
     },
     "execution_count": 45,
     "metadata": {},
     "output_type": "execute_result"
    }
   ],
   "source": [
    "# 4. Load your newly saved file, see if it looks the same.  If not, try saving with argument `index=False`\n",
    "\n",
    "# read and output the joined.csv\n",
    "pd.read_csv('../data/joined.csv')"
   ]
  },
  {
   "cell_type": "markdown",
   "metadata": {},
   "source": [
    "# Extra Credit\n",
    "Every question below this cell is extra credit and optional."
   ]
  },
  {
   "cell_type": "markdown",
   "metadata": {},
   "source": [
    "### 1. (Easy) Explore this new PandasAI Package and tell me what its all about because I've never used it. \n",
    "* https://www.youtube.com/watch?v=5w6eZaoDVVk&ab_channel=CodingIsFun  \n",
    "* See if you can use it on the listings.csv to find out some cool info. or answer some of the questions above. "
   ]
  },
  {
   "cell_type": "markdown",
   "metadata": {},
   "source": [
    "### 2. (Very Easy) Find other cool Panda packages / add ons and show us what they can do well. And how you installed them. "
   ]
  },
  {
   "cell_type": "markdown",
   "metadata": {},
   "source": [
    "### 3. (Medium) Use the grammys.csv data for the next section of questions.\n",
    "\n",
    "1. Who was won Album of the Year in 2016?\n",
    "\n",
    "\n",
    "2. Who won Best Rap Album in 2009?\n",
    "\n",
    "\n",
    "3. How many awards was Kendrick Lamar nomiated for, and how many did he win...?"
   ]
  },
  {
   "cell_type": "markdown",
   "metadata": {},
   "source": [
    "### (Hard) Load the Game Logs for 2022 and add the column names using a dictionary.  \n",
    "* [Link to the data page](https://www.retrosheet.org/gamelogs/)\n",
    "* [Link to the column names](https://procatinator.com/)\n",
    "* haha, gotta find them yourself!"
   ]
  },
  {
   "cell_type": "markdown",
   "metadata": {},
   "source": [
    "### (Extra Hard) Download the files for the past 5 years into a new folder and add them all into one data frame using pandas, then save that new file.\n",
    "* Try to not hard code in the file names. We want to do this programmatically because what if we want to add new/more file names in the future."
   ]
  },
  {
   "cell_type": "code",
   "execution_count": null,
   "metadata": {},
   "outputs": [],
   "source": []
  }
 ],
 "metadata": {
  "kernelspec": {
   "display_name": "Python 3",
   "language": "python",
   "name": "python3"
  },
  "language_info": {
   "codemirror_mode": {
    "name": "ipython",
    "version": 3
   },
   "file_extension": ".py",
   "mimetype": "text/x-python",
   "name": "python",
   "nbconvert_exporter": "python",
   "pygments_lexer": "ipython3",
   "version": "3.12.1"
  }
 },
 "nbformat": 4,
 "nbformat_minor": 4
}
